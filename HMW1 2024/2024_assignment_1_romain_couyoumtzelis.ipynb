{
 "cells": [
  {
   "cell_type": "markdown",
   "metadata": {},
   "source": [
    "The first exercise of this homework contains small unrelated questions on code. The final exam may contain similar questions, in which you will be asked to analyze or correct a piece of code. \n",
    "\n",
    "The second exercise uses a physics dataset on which we perform linear classification."
   ]
  },
  {
   "cell_type": "code",
   "execution_count": 1,
   "metadata": {},
   "outputs": [],
   "source": [
    "# don't forget to run this command before running the script!\n",
    "\n",
    "import pandas as pd\n",
    "import numpy as np\n",
    "np.random.seed(0)\n",
    "\n",
    "import sklearn.model_selection as ms\n",
    "import sklearn.linear_model as lm\n",
    "import sklearn.preprocessing as pp\n",
    "import matplotlib.pyplot as plt\n",
    "from scipy.optimize import minimize\n",
    "from sklearn.metrics import accuracy_score\n"
   ]
  },
  {
   "cell_type": "markdown",
   "metadata": {},
   "source": [
    "## Exercise 1 (6 pt)"
   ]
  },
  {
   "cell_type": "code",
   "execution_count": 186,
   "metadata": {},
   "outputs": [],
   "source": [
    "def loss(x, y, w, l):\n",
    "    # x is a n \\times d matrix, y is a vector\n",
    "    return np.sum((y - x.dot(w))**2 / 2) + (l / 2) * np.sum(np.abs(w))"
   ]
  },
  {
   "cell_type": "markdown",
   "metadata": {},
   "source": [
    "**Question 1 (1 pt)** What loss, seen in class, is computed by the function `loss` ? Explain in what contexts it is used, compared to other losses.\n",
    "\n",
    "_Answer_ : This is the LASSO loss which is computed here. We can see that this loss uses L1 regularization and is generally used for the sparse linear regression. As the L2 regularization can be seen as a circle, the L1 regularization space of solutions can be seen as a diamond-like shape in the contour plot due to the absolute value function. In almost all directions, the point of minimization will tend join the space of w in the corner, leading in more general cases of L1 regularization to sparsity for the estimated w_hat where many components will be 0. Since many components will be 0, this regularization is important, notably in signal processing, because it can reduce considerably the time and the memory needed to reconstruct a signal. "
   ]
  },
  {
   "cell_type": "code",
   "execution_count": 212,
   "metadata": {},
   "outputs": [],
   "source": [
    "def ridge_estimator(x, y, l):\n",
    "    n, d = x.shape\n",
    "    return x.T @ x + l * np.eye(d) @ x.T @ y"
   ]
  },
  {
   "cell_type": "markdown",
   "metadata": {},
   "source": [
    "**Question 2 (1 pt)** We want the function `ridge_estimator` defined above to compute the estimator that minimizes the Ridge loss. Is there any mistake in this code ? If yes, fix it.\n",
    "\n",
    "_Answer_ : The mistake is that we should take the inverse of the following term : (x.T @ x + l * np.eye(d))"
   ]
  },
  {
   "cell_type": "code",
   "execution_count": 213,
   "metadata": {},
   "outputs": [],
   "source": [
    "# Fixing the mistake\n",
    "def ridge_estimator_fixed(x, y, l):\n",
    "    n, d = x.shape\n",
    "    return np.linalg.inv(x.T @ x + l * np.eye(d)) @ x.T @ y"
   ]
  },
  {
   "cell_type": "code",
   "execution_count": 214,
   "metadata": {},
   "outputs": [],
   "source": [
    "def gradient_descent(x, y, B):\n",
    "    \"\"\"\n",
    "    arguments:\n",
    "        x -- n x d matrix\n",
    "        y -- n vector\n",
    "        B -- integer\n",
    "    \"\"\"\n",
    "    # compute an estimator using gradient descent\n",
    "    n, d = x.shape\n",
    "    w = np.zeros(d)\n",
    "    tolerance = 1e-3\n",
    "    diff = np.inf\n",
    "\n",
    "    eta = 0.1\n",
    "    \n",
    "    while diff > tolerance:\n",
    "        w_old = np.copy(w)\n",
    "\n",
    "        indices = np.random.choice(n, B)\n",
    "        x_batch = x[indices]\n",
    "        y_batch = y[indices]\n",
    "        \n",
    "        w -= eta * np.dot(x_batch.T, np.dot(x_batch, w) - y_batch)\n",
    "\n",
    "        diff = np.sum((w_old - w)**2) / d\n",
    "    return w"
   ]
  },
  {
   "cell_type": "markdown",
   "metadata": {},
   "source": [
    "**Question 3 (2 pt)** The goal of the function `gradient_descent` is to compute an estimator using stochastic gradient descent.\n",
    "\n",
    "a) What is the value of the regularization here ? \n",
    "\n",
    "_Answer_ : Here we can see that there is no explicit sign of regularization in the gradient descent function. This function only aims to calculate the gradient and then update the weigths up to a certain tolerance on the differential. Therefore there is no term like L1 or L2 regularization here.\n",
    "\n",
    "b) Explain the role of the variable `eta`. \n",
    "\n",
    "_Answer_ : Eta is the learning rate and describes the step size we will take at each iteration of the gradient descent, If eta is too small, we will converge really slowly to a minimum of the function. On the other hand, if eta is too large, there is a possibility of missing a minimum and then diverge or oscillate around a minimum without converging.\n",
    "\n",
    "c) What line(s) would you change (and how) to perform gradient descent instead of stochastic gradient descent ?\n",
    "\n",
    "_Answer_ : I would change the following line : w -= eta * np.dot(x_batch.T, np.dot(x_batch, w) - y_batch).  \n",
    "Indeed, the gradient descent is dealing with all samples to perform each component of the gradient of the loss function over the weights while the SGD uses subsets of the complete dataset, called mini-batches, to compute an approximation of the gradient. This allows for faster weight updates at each iteration, but at the cost of a less accurate estimation of the gradient.\n",
    "The lign would be changed by : w -= eta * np.dot(x.T, np.dot(x, w) - y). The learning rate could be also adjusted since we are dealing with more samples and in the MSE, there is a 1/n factor which has been deliberately omitted here."
   ]
  },
  {
   "cell_type": "markdown",
   "metadata": {},
   "source": [
    "**Question 4 (2 pt)** In the function `gradient_logistic_l2`, implement the gradient of the following loss (as before, we use here labels equal to $\\pm 1$) :\n",
    "$$\n",
    "    \\mathcal{L}(\\vec{w}) = \\frac{1}{n} \\left( \\sum_{i = 1}^n \\log \\left( 1 + e^{- y_i \\times \\vec{w}^{\\top} \\vec{x}_i} \\right) + \\frac{\\lambda}{2} \\| \\vec{w} \\|^2 \\right)\n",
    "$$\n"
   ]
  },
  {
   "cell_type": "code",
   "execution_count": 217,
   "metadata": {},
   "outputs": [],
   "source": [
    "def gradient_logistic_l2(w, X, y, l):\n",
    "    # your code here \n",
    "    n,d = X.shape\n",
    "    z = X @ w\n",
    "    gradient = np.zeros(d)\n",
    "    cal = 1/(1+np.exp(y * z))\n",
    "    for k in range(d):\n",
    "        gradient[k] = (-np.sum(y * X[:,k] * cal) + l * w[k])/n\n",
    "    return gradient"
   ]
  },
  {
   "cell_type": "markdown",
   "metadata": {},
   "source": [
    "## Exercise 2 (10 pt)"
   ]
  },
  {
   "cell_type": "markdown",
   "metadata": {},
   "source": [
    "In this exercise, we will perform linear classification on the SUSY dataset. Here, each data sample corresponds to particle collision event, which will be either from background noise (label `0`) or a supersymmetric event (label `1`). The input is made of $18$ numerical features related to the collision.\n",
    "\n",
    "Because the original dataset is quite large (more than 1 GB), we will work with a small version of it containing 10000 training samples, that you can download on the Moodle page, called `susy_small.csv`.\n",
    "\n",
    "### Data preparation\n",
    "\n",
    "First, we will clean the data to make it more convenient to work with."
   ]
  },
  {
   "cell_type": "code",
   "execution_count": 218,
   "metadata": {},
   "outputs": [],
   "source": [
    "def load_dataset():\n",
    "    df = pd.read_csv('susy_small.csv')\n",
    "    # TODO your code here \n",
    "    x=df.values[:,1:]\n",
    "    y=df.values[:,0]\n",
    "    return x, y"
   ]
  },
  {
   "cell_type": "markdown",
   "metadata": {},
   "source": [
    "**Question 1 (1 pt)** a) Implement the function `load_dataset` to return two numpy arrays `x` and `y`. `y` must contain the values in the column `SUSY` of the dataframe `df`, while `x` contains the rest of the data.\n",
    "\n",
    "b) Observe the values taken by the labels $y$. Transform them such that they are either $-1$ or $1$ to be coherent with the notation seen in class."
   ]
  },
  {
   "cell_type": "code",
   "execution_count": 131,
   "metadata": {},
   "outputs": [],
   "source": [
    "def label_to_pm_one(y):\n",
    "    y_new = np.where(y == 0, -1, 1) # your code here\n",
    "    return y_new"
   ]
  },
  {
   "cell_type": "markdown",
   "metadata": {},
   "source": [
    "**Question 2 (1 pt)** As good practice, it is preferable to have normalized data that is to say that the mean of the input matrix `X` accross its first first dimension should be $0$, and its variance should be $1$. This is not the case here. We then want to write a function that does two things : 1) split the data into training and validation sets and 2) normalize the training data. \n",
    "\n",
    "Here are two possible functions, `function1` and `function2` written for this purpose. Which of them is preferrable to the other and why ? \n",
    "\n",
    "_Reminder_ : The function `sklearn.model_selection.train_test_split` splits a given dataset `X`, `y` into a training and test data. The role of  the argument `random_state=0` is for reproducibility purposes.\n",
    "\n",
    "_Answer_ : It is preferable to normalize the training data and use the statistics from the training data to normalize the test data. This better reflects reality because in real-world applications the test data is not known in advance. This being said, we have to use the statistics of the training set to normalize the test set. Moreover the function2 uses statistics calculated from the complete dataset (train + test), which can introduce bias. In fact, the statistics of the test set should not be used during the model training process since we are not suppose to know them yet."
   ]
  },
  {
   "cell_type": "code",
   "execution_count": 219,
   "metadata": {},
   "outputs": [],
   "source": [
    "def function1(x, y):\n",
    "    # First split into training and validation, then compute the mean and variance of training data to normalize\n",
    "    x_train, x_test, y_train, y_test = ms.train_test_split(x, y, test_size=0.2, random_state=0)\n",
    "    mean_x_train = np.mean(x_train, axis = 0)\n",
    "    var_x_train  = np.var(x_train, axis = 0)\n",
    "    x_train = (x_train - mean_x_train) / np.sqrt(var_x_train)\n",
    "    x_test  = (x_test  - mean_x_train) / np.sqrt(var_x_train)\n",
    "    return x_train, x_test, y_train, y_test\n",
    "\n",
    "def function2(x, y):\n",
    "    # First compute the mean and variance of data, then split into training and validation\n",
    "    mean_x = np.mean(x, axis = 0)\n",
    "    var_x  = np.var(x, axis = 0)\n",
    "    x_train, x_test, y_train, y_test = ms.train_test_split(x, y, test_size=0.2, random_state=0)\n",
    "    x_train = (x_train - mean_x) / np.sqrt(var_x)\n",
    "    x_test  = (x_test  - mean_x) / np.sqrt(var_x)\n",
    "    return x_train, x_test, y_train, y_test\n",
    "\n",
    "function_normalize = function1\n",
    "# function_normalize = function2"
   ]
  },
  {
   "cell_type": "markdown",
   "metadata": {},
   "source": [
    "### Logistic regression\n",
    "\n",
    "**Question 4 (4 pt)** We want to run two methods to clasify the data : logistic regression with $\\ell_1$ and $\\ell_2$ penalty. \n",
    "\n",
    "a) First, implement the functions `logistic_l2` and `logistic_l1` that compute and returns the estimator for their corresponding losses. To this end, use the `sklearn.linear_model.LogisticRegression` class with the appropriate choice of penalty.\n",
    "\n",
    "_Important note_ : in the initialization of `LogisticRegression`, set the argument `solver='liblinear'` to avoid an error."
   ]
  },
  {
   "cell_type": "code",
   "execution_count": 222,
   "metadata": {},
   "outputs": [],
   "source": [
    "def logistic_l1(x, y, l):\n",
    "    # your code here\n",
    "    lr =lm.LogisticRegression(penalty='l1', C=1/l, solver='liblinear').fit(x,y)\n",
    "    return lr\n",
    "def logistic_l2(x, y, l):\n",
    "    # your code here\n",
    "    lr =lm.LogisticRegression(penalty='l2', C=1/l, solver='liblinear').fit(x,y)\n",
    "    return lr"
   ]
  },
  {
   "cell_type": "markdown",
   "metadata": {},
   "source": [
    "b) Implement the functions `logistic_l2_crossvalidation` and `logistic_l1_crossvalidation` that compute the accuracy on the _validation data_ of the estimators trained for different values of $\\lambda$ : for a list `lambda_range` that contains a list of the $\\lambda$ to be tested, the function should return another list of the same length that contains the accuracy for each $\\lambda$."
   ]
  },
  {
   "cell_type": "code",
   "execution_count": 223,
   "metadata": {},
   "outputs": [],
   "source": [
    "def logistic_l2_crossvalidation(x_train, y_train, x_val, y_val, lambda_range):\n",
    "    #your code here\n",
    "    accuracy_val = []\n",
    "    for l in lambda_range:\n",
    "        model = logistic_l2(x_train, y_train, l)\n",
    "        accuracy_val.append(accuracy_score(y_val, model.predict(x_val)))\n",
    "    return accuracy_val  # Correct indentation here\n",
    "\n",
    "def logistic_l1_crossvalidation(x_train, y_train, x_val, y_val, lambda_range):\n",
    "    #your code here\n",
    "    accuracy_val = []\n",
    "    for l in lambda_range:\n",
    "        model = logistic_l1(x_train, y_train, l)\n",
    "        accuracy_val.append(accuracy_score(y_val, model.predict(x_val)))\n",
    "    return accuracy_val  # Correct indentation here\n"
   ]
  },
  {
   "cell_type": "markdown",
   "metadata": {},
   "source": [
    "c) Using the functions of the previous questions, plot the validation accuracy for `lambda_range = np.logspace(-2, 5, 50)` for both $\\ell_1$ and $\\ell_2$ regularizations (don't hesitate to use a logarithmic scale for the x-axis). What are the optimal values $\\lambda_1, \\lambda_2$ ? \n",
    "\n",
    "_Answer_ : The best lambda for L1 regularization is :  37.27593720314938  \n",
    "The best lambda for L21 regularization is :  13.894954943731374"
   ]
  },
  {
   "cell_type": "code",
   "execution_count": 224,
   "metadata": {},
   "outputs": [
    {
     "data": {
      "image/png": "[encoded data removed]",
      "text/plain": [
       "<Figure size 640x480 with 1 Axes>"
      ]
     },
     "metadata": {},
     "output_type": "display_data"
    },
    {
     "name": "stdout",
     "output_type": "stream",
     "text": [
      "The best lambda for L1 regularization is : 37.27593720314938\n",
      "The best lambda for L2 regularization is : 13.894954943731374\n",
      "Proportion of -1 labels in the validation set is : 0.5415\n"
     ]
    }
   ],
   "source": [
    "# 1) load the data and normalize it \n",
    "xs,ys = load_dataset()\n",
    "ys = label_to_pm_one(ys)\n",
    "x_train, x_val, y_train, y_val = function_normalize(xs,ys)\n",
    "\n",
    "# 2) compute the scores for logistic regression with l1 penalty\n",
    "lambda_range = np.logspace(-2, 5, 50)\n",
    "l1_score = logistic_l1_crossvalidation(x_train, y_train, x_val, y_val, lambda_range)\n",
    "\n",
    "# 3) compute the scores for logistic regression with l2 penalty\n",
    "l2_score = logistic_l2_crossvalidation(x_train, y_train, x_val, y_val, lambda_range)\n",
    "\n",
    "best_lambda_l1 = lambda_range[np.argmax(l1_score)]\n",
    "best_lambda_l2 = lambda_range[np.argmax(l2_score)]\n",
    "\n",
    "# Here we compare if the score corresponds to the proportion of background events when lambda becomes very large\n",
    "def proportion_negative_labels(y):\n",
    "    count_negative = np.sum(y == -1)\n",
    "    proportion_negative = count_negative / len(y)\n",
    "    return proportion_negative\n",
    "\n",
    "proportion_neg = proportion_negative_labels(y_val)\n",
    "\n",
    "# 4) plot the scores as a function of lambda_range\n",
    "#uncomment to visualize the results\n",
    "plt.figure()\n",
    "plt.plot(lambda_range, l1_score,'-o', color=\"blue\", label=r\"$L1_{score}$\", markersize=6, linewidth=1)\n",
    "plt.plot(lambda_range, l2_score, '-x', color=\"red\", label=r\"$L2_{score}$\", markersize=6, linewidth=1)\n",
    "plt.axvline(x=best_lambda_l1, color=\"blue\", linestyle='--', label=r'$Best\\ \\lambda_{L1}$')\n",
    "plt.axvline(x=best_lambda_l2, color=\"red\", linestyle='--', label=r'$Best\\ \\lambda_{L2}$')\n",
    "plt.axhline(y=proportion_neg, color=\"green\", linestyle='--', label=r'$Proportion\\ of\\ -1\\ labels$')\n",
    "\n",
    "plt.xscale('log')\n",
    "plt.ylabel(\"Scores\")\n",
    "plt.xlabel(\"Lambda\")\n",
    "plt.legend()\n",
    "plt.grid()\n",
    "plt.show()\n",
    "\n",
    "# 5) print the best lambda for l1 and l2 penalties\n",
    "print(f\"The best lambda for L1 regularization is : {best_lambda_l1}\")\n",
    "print(f\"The best lambda for L2 regularization is : {best_lambda_l2}\")\n",
    "print(f\"Proportion of -1 labels in the validation set is : {proportion_neg}\")"
   ]
  },
  {
   "cell_type": "markdown",
   "metadata": {},
   "source": [
    "d) When $\\lambda$ is big enough, the validation accuracy for $\\ell_1$ regularization becomes constant to some value (let's call it $acc_{\\infty}$). Justify that $acc_{\\infty}$ is equal to the proportion of background events (i.e samples with label $-1$) in the validation data.\n",
    "\n",
    "_Answer_ : When lambda becomes very large, the regularization forces the model's coefficients to zero since the cost is more important to overcome the parameter lambda while tryig to minimize the loss, than setting the coefficient to 0. Therefore, this leads to predict the same class for all data points, regardless of their features. In this case, the model loses its predictive power and simply assigns all observations to the majority class (likely the background events, labeled as -1). To summarize, the accuracy acc∞ becomes equal to the proportion of background events in the validation data, as the model always predicts this majority class. Also here we added the horizontal green curve which allows us to see that the model assigns all obsevervation to the majority class and is correct (ie the score) in a proportion corresponding to the one of the -1 labels."
   ]
  },
  {
   "cell_type": "markdown",
   "metadata": {},
   "source": [
    "### Adding interacting polynomial features\n",
    "\n",
    "In this section, we will try to improve our classifier by adding features in our data, namely the product of the 18 existing features. That is to say, for all pair of indices $0 \\leqslant i, j \\leqslant 17$ with $i \\neq j$ we will add the feature `X[:, i] * X[:, j]` to the matrix `X` (to have 171 features in total)."
   ]
  },
  {
   "cell_type": "markdown",
   "metadata": {},
   "source": [
    "**Question 5 (1 pt)** Implement the function `add_interactions` to add the features described above.\n",
    "\n",
    "_Hint_ : You can use a class seen in the exercise session to do so, with the correct arguments `degree` and `interaction_only`. The final dimension should be 171.\n"
   ]
  },
  {
   "cell_type": "code",
   "execution_count": 225,
   "metadata": {},
   "outputs": [],
   "source": [
    "def add_interactions(X):\n",
    "    # youre code here\n",
    "    poly = pp.PolynomialFeatures(degree=2, interaction_only=True, include_bias=False)\n",
    "    X_interactions = poly.fit_transform(X)\n",
    "    return X_interactions"
   ]
  },
  {
   "cell_type": "markdown",
   "metadata": {},
   "source": [
    "**Question 6 (3 pt)** Redo the steps of question 4 to find the optimal regularization strength $\\lambda_{1, poly}$ and $\\lambda_{2, poly}$ that correspond to the best validation accuracy. Did the validation accuracy improve compared to question 4 ? \n",
    "\n",
    "_NOTE_ : The computation may take some time, so be patient.\n",
    "\n",
    "_Answer_ : The best lambda for L1 regularization is : 2.6826957952797246.  \n",
    "The best lambda for L2 regularization is : 1.9306977288832496.\n",
    "After adding interactions, we obtained for both regularization lower lambda, meaning that the model became more complex and therefore requiring weaker regularization to avoid overfitting and to generalize well. We can say that adding those features had an impact on the model's ability to fit correctly the data. Also we can see that the score curves (proportion of validation set labels correctly classified) are higher meaning that the model predicts now more correctly the labels than before without the interactions. An improvement can be seen regarding the accuracy. "
   ]
  },
  {
   "cell_type": "code",
   "execution_count": 226,
   "metadata": {},
   "outputs": [
    {
     "data": {
      "image/png": "[encoded data removed]",
      "text/plain": [
       "<Figure size 640x480 with 1 Axes>"
      ]
     },
     "metadata": {},
     "output_type": "display_data"
    },
    {
     "name": "stdout",
     "output_type": "stream",
     "text": [
      "The best lambda for L1 regularization is : 2.6826957952797246\n",
      "The best lambda for L2 regularization is : 1.9306977288832496\n"
     ]
    }
   ],
   "source": [
    "from time import time\n",
    "\n",
    "# your code here \n",
    "# 1) load the data and normalize it \n",
    "xs,ys = load_dataset()\n",
    "ys = label_to_pm_one(ys)\n",
    "x_add = add_interactions(xs)\n",
    "x_train, x_val, y_train, y_val = function_normalize(x_add,ys)\n",
    "\n",
    "# 2) compute the scores for logistic regression with l1 penalty\n",
    "lambda_range = np.logspace(-2, 5, 50)\n",
    "l1_score = logistic_l1_crossvalidation(x_train, y_train, x_val, y_val, lambda_range)\n",
    "\n",
    "# 3) compute the scores for logistic regression with l2 penalty\n",
    "l2_score = logistic_l2_crossvalidation(x_train, y_train, x_val, y_val, lambda_range)\n",
    "\n",
    "best_lambda_l11 = lambda_range[np.argmax(l1_score)]\n",
    "best_lambda_l21 = lambda_range[np.argmax(l2_score)]\n",
    "\n",
    "# 4) plot the scores as a function of lambda_range\n",
    "#uncomment to visualize the results\n",
    "plt.figure()\n",
    "plt.plot(lambda_range, l1_score,'-o', color=\"blue\", label=r\"$L1_{score}$\", markersize=6, linewidth=1)\n",
    "plt.plot(lambda_range, l2_score, '-x', color=\"red\", label=r\"$L2_{score}$\", markersize=6, linewidth=1)\n",
    "plt.axvline(x=best_lambda_l11, color=\"blue\", linestyle='--', label=r'$Best\\ \\lambda_{L1}$')\n",
    "plt.axvline(x=best_lambda_l21, color=\"red\", linestyle='--', label=r'$Best\\ \\lambda_{L2}$')\n",
    "\n",
    "plt.xscale('log')\n",
    "plt.ylabel(\"Scores\")\n",
    "plt.xlabel(\"Lambda\")\n",
    "plt.legend()\n",
    "plt.grid()\n",
    "plt.show()\n",
    "\n",
    "# 5) print the best lambda for l1 and l2 penalties\n",
    "print(f\"The best lambda for L1 regularization is : {best_lambda_l11}\")\n",
    "print(f\"The best lambda for L2 regularization is : {best_lambda_l21}\")\n"
   ]
  },
  {
   "cell_type": "code",
   "execution_count": null,
   "metadata": {},
   "outputs": [],
   "source": []
  }
 ],
 "metadata": {
  "kernelspec": {
   "display_name": "Python 3",
   "language": "python",
   "name": "python3"
  },
  "language_info": {
   "codemirror_mode": {
    "name": "ipython",
    "version": 3
   },
   "file_extension": ".py",
   "mimetype": "text/x-python",
   "name": "python",
   "nbconvert_exporter": "python",
   "pygments_lexer": "ipython3",
   "version": "3.11.2"
  }
 },
 "nbformat": 4,
 "nbformat_minor": 4
}
